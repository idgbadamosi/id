{
 "cells": [
  {
   "cell_type": "code",
   "execution_count": null,
   "metadata": {},
   "outputs": [],
   "source": [
    "import pandas as pd\n",
    "import numpy as np\n",
    "import matplotlib.pyplot as plt\n",
    "url = 'https://raw.githubusercontent.com/WalePhenomenon/climate_change/master/fuel_ferc1.csv'\n",
    "fuel_data= pd.read_csv(url, error_bad_lines = False) \n",
    "fuel_data.describe(include = 'all')"
   ]
  },
  {
   "cell_type": "code",
   "execution_count": 8,
   "metadata": {},
   "outputs": [
    {
     "name": "stdout",
     "output_type": "stream",
     "text": [
      "<class 'pandas.core.frame.DataFrame'>\n",
      "RangeIndex: 29523 entries, 0 to 29522\n",
      "Data columns (total 11 columns):\n",
      "record_id                       29523 non-null object\n",
      "utility_id_ferc1                29523 non-null int64\n",
      "report_year                     29523 non-null int64\n",
      "plant_name_ferc1                29523 non-null object\n",
      "fuel_type_code_pudl             29523 non-null object\n",
      "fuel_unit                       29343 non-null object\n",
      "fuel_qty_burned                 29523 non-null float64\n",
      "fuel_mmbtu_per_unit             29523 non-null float64\n",
      "fuel_cost_per_unit_burned       29523 non-null float64\n",
      "fuel_cost_per_unit_delivered    29523 non-null float64\n",
      "fuel_cost_per_mmbtu             29523 non-null float64\n",
      "dtypes: float64(5), int64(2), object(4)\n",
      "memory usage: 2.5+ MB\n"
     ]
    }
   ],
   "source": [
    "fuel_data.info()"
   ]
  },
  {
   "cell_type": "markdown",
   "metadata": {},
   "source": [
    "# Fuel type with the lowest average fuel cost per unit burned"
   ]
  },
  {
   "cell_type": "code",
   "execution_count": 48,
   "metadata": {},
   "outputs": [
    {
     "data": {
      "text/plain": [
       "fuel_type_code_pudl              gas\n",
       "fuel_cost_per_unit_burned    13.6594\n",
       "Name: 0, dtype: object"
      ]
     },
     "execution_count": 48,
     "metadata": {},
     "output_type": "execute_result"
    }
   ],
   "source": [
    "#z represents each fuel type code and its corresponding average fuel cost per unit burned arranged in ascending order\n",
    "z=fuel_data.groupby('fuel_type_code_pudl')['fuel_cost_per_unit_burned'].mean().sort_values().reset_index(name = 'fuel_cost_per_unit_burned')\n",
    "z.iloc[0,:]"
   ]
  },
  {
   "cell_type": "markdown",
   "metadata": {},
   "source": [
    "# Standard deviation and 75th percentile of the column fuel_mmbtu_per_unit"
   ]
  },
  {
   "cell_type": "code",
   "execution_count": 14,
   "metadata": {},
   "outputs": [
    {
     "name": "stdout",
     "output_type": "stream",
     "text": [
      "10.6\n",
      "17.01\n"
     ]
    }
   ],
   "source": [
    "#sd = standard deviation  \n",
    "#p_75 = 75th percentile \n",
    "sd = fuel_data.fuel_mmbtu_per_unit.std()\n",
    "p_75 = fuel_data.fuel_mmbtu_per_unit.quantile(0.75)\n",
    "sd = round(sd, 2)\n",
    "p_75= round(p_75, 2)\n",
    "print(sd)\n",
    "print(p_75)"
   ]
  },
  {
   "cell_type": "markdown",
   "metadata": {},
   "source": [
    "# skew and kurtosis of fuel quantity burned to 2 decimal places"
   ]
  },
  {
   "cell_type": "code",
   "execution_count": 18,
   "metadata": {},
   "outputs": [
    {
     "name": "stdout",
     "output_type": "stream",
     "text": [
      "15.85\n",
      "651.26\n"
     ]
    }
   ],
   "source": [
    "from scipy.stats import skew\n",
    "from scipy.stats import kurtosis\n",
    "#sk = skew\n",
    "#kt = kurtosis\n",
    "sk = skew(fuel_data['fuel_qty_burned'])\n",
    "kt = kurtosis(fuel_data['fuel_qty_burned'])\n",
    "sk = round(sk, 2)\n",
    "kt = round(kt, 2)\n",
    "print(sk)\n",
    "print(kt)"
   ]
  },
  {
   "cell_type": "markdown",
   "metadata": {},
   "source": [
    "# Missing values in columns expressed as a percentage "
   ]
  },
  {
   "cell_type": "code",
   "execution_count": 20,
   "metadata": {},
   "outputs": [
    {
     "data": {
      "text/plain": [
       "record_id                         0\n",
       "utility_id_ferc1                  0\n",
       "report_year                       0\n",
       "plant_name_ferc1                  0\n",
       "fuel_type_code_pudl               0\n",
       "fuel_unit                       180\n",
       "fuel_qty_burned                   0\n",
       "fuel_mmbtu_per_unit               0\n",
       "fuel_cost_per_unit_burned         0\n",
       "fuel_cost_per_unit_delivered      0\n",
       "fuel_cost_per_mmbtu               0\n",
       "dtype: int64"
      ]
     },
     "execution_count": 20,
     "metadata": {},
     "output_type": "execute_result"
    }
   ],
   "source": [
    "#determining the column with missing values and the number of missing values in each column\n",
    "fuel_data.isnull().sum()"
   ]
  },
  {
   "cell_type": "code",
   "execution_count": null,
   "metadata": {},
   "outputs": [],
   "source": [
    "# from the previous code there are 180 missing values in the fuel_unit column, the missing values are expressed as a fraction of the total no of values in the column, and is represented as missing_values \n",
    "missing_values = fuel_data.fuel_unit.isnull().sum()/fuel_data['fuel_unit'].isnull().count()\n",
    "#expressing the missing values as a percentage\n",
    "missing_values = missing_values *100\n",
    "missing_values = round(missing_values, 3).astype(str) + '%'\n",
    "print(missing_values)"
   ]
  },
  {
   "cell_type": "markdown",
   "metadata": {},
   "source": [
    "# Parameters with the 2nd and 3rd lowest Correlation coefficient with fuel cost per unit burned"
   ]
  },
  {
   "cell_type": "code",
   "execution_count": 45,
   "metadata": {},
   "outputs": [
    {
     "data": {
      "text/html": [
       "<div>\n",
       "<style scoped>\n",
       "    .dataframe tbody tr th:only-of-type {\n",
       "        vertical-align: middle;\n",
       "    }\n",
       "\n",
       "    .dataframe tbody tr th {\n",
       "        vertical-align: top;\n",
       "    }\n",
       "\n",
       "    .dataframe thead th {\n",
       "        text-align: right;\n",
       "    }\n",
       "</style>\n",
       "<table border=\"1\" class=\"dataframe\">\n",
       "  <thead>\n",
       "    <tr style=\"text-align: right;\">\n",
       "      <th></th>\n",
       "      <th>index</th>\n",
       "      <th>fuel cost per unit burned</th>\n",
       "    </tr>\n",
       "  </thead>\n",
       "  <tbody>\n",
       "    <tr>\n",
       "      <td>5</td>\n",
       "      <td>fuel_qty_burned</td>\n",
       "      <td>-0.018535</td>\n",
       "    </tr>\n",
       "    <tr>\n",
       "      <td>4</td>\n",
       "      <td>fuel_mmbtu_per_unit</td>\n",
       "      <td>-0.010034</td>\n",
       "    </tr>\n",
       "  </tbody>\n",
       "</table>\n",
       "</div>"
      ],
      "text/plain": [
       "                 index  fuel cost per unit burned\n",
       "5      fuel_qty_burned                  -0.018535\n",
       "4  fuel_mmbtu_per_unit                  -0.010034"
      ]
     },
     "execution_count": 45,
     "metadata": {},
     "output_type": "execute_result"
    }
   ],
   "source": [
    "#coeff is a dataframe in descending order of all the columns and their correlation coefficient\n",
    "coeff=fuel_data.corr().loc['fuel_cost_per_unit_burned'].sort_values( ascending = False).reset_index(name = 'fuel cost per unit burned')\n",
    "coeff.iloc[[-2,-3,],:]"
   ]
  },
  {
   "cell_type": "markdown",
   "metadata": {},
   "source": [
    "# Percentage change in fuel cost per unit burned in 1998 compared with 1994"
   ]
  },
  {
   "cell_type": "code",
   "execution_count": 57,
   "metadata": {},
   "outputs": [
    {
     "data": {
      "text/plain": [
       "report_year\n",
       "1994         NaN\n",
       "1998   -0.205677\n",
       "Name: coal, dtype: float64"
      ]
     },
     "execution_count": 57,
     "metadata": {},
     "output_type": "execute_result"
    }
   ],
   "source": [
    "import pandas as pd\n",
    "import numpy as np\n",
    "#pitable is a table of the sum of fuel_cost_per_unit_burned, for each year, and each fuel type\n",
    "pitable = pd.pivot_table(fuel_data, values = 'fuel_cost_per_unit_burned',\n",
    "               index = ['report_year'], columns = ['fuel_type_code_pudl'], \n",
    "              aggfunc = np.sum)\n",
    "# m is a subset of the sum of fuel_cost_per_unit_burned,  for coal, in the years 1994 and 1998\n",
    "m=pitable.loc[[1994,1998],'coal']\n",
    "#percentage change for the year 1998\n",
    "m.pct_change()\n"
   ]
  },
  {
   "cell_type": "markdown",
   "metadata": {},
   "source": [
    "# Year with the highest average fuel cost per unit delivered"
   ]
  },
  {
   "cell_type": "code",
   "execution_count": null,
   "metadata": {},
   "outputs": [],
   "source": [
    "#yr represents each year and the corresponding average fuel cost per unit delivered arranged in descending order\n",
    "yr = fuel_data.groupby('report_year')['fuel_cost_per_unit_delivered'].mean().sort_values(ascending= False).reset_index(name = 'fuel cost per unit delivered')\n",
    "yr.iloc[0]\n"
   ]
  }
 ],
 "metadata": {
  "kernelspec": {
   "display_name": "Python 3",
   "language": "python",
   "name": "python3"
  },
  "language_info": {
   "codemirror_mode": {
    "name": "ipython",
    "version": 3
   },
   "file_extension": ".py",
   "mimetype": "text/x-python",
   "name": "python",
   "nbconvert_exporter": "python",
   "pygments_lexer": "ipython3",
   "version": "3.7.4"
  }
 },
 "nbformat": 4,
 "nbformat_minor": 2
}
